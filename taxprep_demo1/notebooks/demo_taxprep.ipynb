{
 "cells": [
  {
   "cell_type": "markdown",
   "id": "b315a837",
   "metadata": {},
   "source": [
    "# TaxPrep Demo Notebook\n",
    "This notebook demonstrates generating synthetic data and running the local scoring service."
   ]
  },
  {
   "cell_type": "code",
   "execution_count": null,
   "id": "f7064a72",
   "metadata": {},
   "outputs": [],
   "source": [
    "from data_utils import load_or_generate_sample\n",
    "from scoring_service import score_batch\n",
    "\n",
    "df = load_or_generate_sample(100)\n",
    "print(df.head())\n",
    "results = score_batch(df)\n",
    "print('Sample result:', results[0])"
   ]
  },
  {
   "cell_type": "markdown",
   "id": "d409ea4a",
   "metadata": {},
   "source": [
    "## Evaluation (simple example)\n",
    "You can compute metrics by adding ground-truth labels and comparing."
   ]
  }
 ],
 "metadata": {},
 "nbformat": 4,
 "nbformat_minor": 5
}
